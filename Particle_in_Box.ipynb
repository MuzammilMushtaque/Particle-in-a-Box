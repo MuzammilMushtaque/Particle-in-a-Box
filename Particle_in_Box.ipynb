{
 "cells": [
  {
   "cell_type": "markdown",
   "metadata": {},
   "source": [
    "# Quantum mechanics and the time-independent Schrodinger equation: The particle in a box I <br>\n",
    "\n",
    "## Muzammil Mushtaq <br>\n",
    "\n",
    "Reference:\n",
    "https://doi.org/10.1021/acs.jchemed.7b00003\n",
    "\n",
    "A standard problem in quantum chemistry is the particle in a box. This is a mostly educational example to illustrate fundamentals of quantum mechanics and the difference to classical mechanics. As the potential within the box is zero, it is the simplest example (apart from the free particle) in quantum mechanics.\n",
    "\n",
    "In this example, a particle is contained in a box of length $L$, with zero potential within the box, and potential walls extending to infinity at both sides of the box: "
   ]
  },
  {
   "cell_type": "code",
   "execution_count": 9,
   "metadata": {},
   "outputs": [
    {
     "data": {
      "image/png": "[encoded data removed]",
      "text/plain": [
       "<Figure size 800x500 with 2 Axes>"
      ]
     },
     "metadata": {},
     "output_type": "display_data"
    }
   ],
   "source": [
    "from numpy import *\n",
    "from scipy import linalg as la\n",
    "\n",
    "import matplotlib.pyplot as plt\n",
    "\n",
    "prop_cycle = plt.rcParams['axes.prop_cycle']\n",
    "colors = prop_cycle.by_key()['color']\n",
    "\n",
    "mf=10\n",
    "fig, ax = plt.subplots(figsize=(8,5))\n",
    "ax.vlines(0,0,2)\n",
    "ax.vlines(1,0,2)\n",
    "plt.xticks(linspace(0,1,3), ('-L/2','0', 'L/2'),fontsize=mf)\n",
    "plt.yticks(arange(2), ('0','inf'),fontsize=mf)\n",
    "\n",
    "ax.set_xlim(left=-0.05,right=1.05)\n",
    "ax.set_ylim(bottom=0,top=1.0)\n",
    "\n",
    "ax.vlines(-0.05,0,2, color='green', lw=40, alpha=0.5)\n",
    "ax.vlines(1.05,0,2, color='green', lw=40, alpha=0.5)\n",
    "ax2=fig.add_subplot(111,aspect='equal') \n",
    "circle=plt.Circle((0.3,0.2),0.05)\n",
    "ax2.add_artist(circle)\n",
    "ax2.axis('off')\n",
    "ax.set_ylabel('V',fontsize=mf)\n",
    "plt.show()"
   ]
  },
  {
   "cell_type": "markdown",
   "metadata": {},
   "source": [
    "The Hamiltonian for this problem **inside** the box reads\n",
    "\\begin{align}\n",
    "\\hat{H} = \\hat{T} + V = -\\frac{\\hbar^2}{2m} \\frac{\\partial^2}{\\partial x^2}\n",
    "\\end{align}\n",
    "\n",
    "## Time-independent Schrödinger Equation\n",
    "\\begin{align}\n",
    "H \\Psi(x) = E \\Psi(x)\n",
    "\\end{align}\n",
    "\n",
    "\n",
    "We know the analytical solution to this problem - the wave functions for the 1D box are\n",
    "\\begin{align}\n",
    "\\Psi_n(x) =\\sqrt{\\frac{2}{L}} \\sin\\left(\\frac{n \\pi (x+L/2)}{L}\\right)\n",
    "\\end{align}\n",
    "and the corresponding energies are\n",
    "\\begin{align}\n",
    "E_n =\\frac{n^2 \\pi^2 \\hbar^2}{2mL^2}\n",
    "\\end{align}\n",
    "\n",
    "Note that for the Time-independent Schrödinger Equation we can choose the states real and will do so in this notebook. \n",
    "\n",
    "## Difference to classical mechanics\n",
    "\n",
    "For a classical particle in the box, the Hamiltonian (in $[-\\frac{L}{2}, \\frac{L}{2}]$) reads\n",
    "\\begin{align}\n",
    "H(p,q) = T + V = \\frac{p^2}{2m}\n",
    "\\end{align}\n",
    "For a given energy of the particle, the momentum of the particle is\n",
    "\\begin{align}\n",
    "p = \\pm\\sqrt{E\\cdot2m}\n",
    "\\end{align}\n",
    "and the particle moves either to the left (-) or the right (+). The position of the particle is completely undetermined (it could be anywhere in the box) unless an initial value is defined and the time evolution of the system is studied.\n",
    "\n",
    "In quantum mechanics, the probability of finding the particle at a certain position $x$ for a given energy is __not equal__ for all $x$. And the possible values for the total energy of the system are not continuous __but discrete__.  \n",
    "\n",
    "\n",
    "## Matrix form of quantum mechanics\n",
    "\n",
    "https://doi.org/10.1007/BF01328377 \\\n",
    "https://doi.org/10.1007/BF01379806 \\\n",
    "https://aapt.scitation.org/doi/10.1119/1.3009634\n",
    "\n",
    "As quantum-mechanical systems exhibit discrete energies and their states can be described using functions (vectors), and operators like ${\\hat{x}}$ and ${\\hat{p}}$ are not commutative (cannot be determined simultaneously) this naturally leads to the emergence of __matrix mechanics__. \n",
    "\n",
    "One first chooses a (finite) orthonormal basis set $\\{\\phi_i\\}$ and then expresses operators in this basis:\n",
    "\n",
    "\\begin{align}\n",
    "\\hat{x} \\rightarrow x_{ij} = \\left\\lt \\phi_i \\right| \\hat{x} \\left| \\phi_j\\right\\gt\n",
    "\\end{align}\n",
    "\\begin{align}\n",
    "\\hat{p} \\rightarrow p_{ij} = \\left\\lt \\phi_i \\right| \\hat{p} \\left| \\phi_j\\right\\gt\n",
    "\\end{align}\n",
    "etc.\n",
    "\n",
    "and also represent the wavefunction in this basis:\n",
    "\\begin{align}\n",
    "\\left|\\Psi\\right\\gt & \\approx \\sum_j  \\left|\\Phi_j\\right\\gt \\left\\lt\\Phi_j\\right| \\left. \\Psi\\right\\gt \\\\\n",
    "  & =  \\sum_j c_j \\left|\\Phi_j \\right\\gt \\\\\n",
    "\\end{align}\n",
    "\n",
    "What we really only store on the computer are the matrix elements of the operators and the coefficients of the wavefunction. \n",
    "\n",
    "\n",
    "In a computer representation, we need to resort to linear algebra, and all operations in quantum mechanics can be described by vector-vector and matrix-vector multiplication, and matrix diagonalization. \n",
    "\n",
    "In the following, we will look at the matrix representation of the quantum particle in a box.\n",
    "\n",
    "\n",
    "### Hamiltonian Matrix\n",
    "\n",
    "The matrix elements of the Hamiltonian: \n",
    "\\begin{align}\n",
    " H_{i,j} = \\left\\lt \\phi_i \\right| H \\left| \\phi_j\\right\\gt\n",
    "\\end{align}\n",
    "\n",
    "In the following we will be working in **coordinate representation**, that is, we will have wavefunctions $\\psi(x)$ and we will just represent them on a number of equidistant points we get for instance from a `numpy.linspace`. \n",
    "\n",
    "### Normalization\n",
    "\n",
    "We will for now use the Riemann sum for evaluating integrals. That is, we will evaluate integrals such as the norm of the wavefunction as: \n",
    "\\begin{align}\n",
    "  \\int\\limits_{-L/2}^{L/2}\\left|\\psi(x)\\right|^2 dx  = \\left\\lt \\psi(x) \\right.\\left| \\psi(x)\\right\\gt = \\delta x \\sum_i \\left|\\psi(x_i)\\right|^2 = 1\n",
    "\\end{align}\n",
    "\n",
    "Note, that since $\\delta x$ is just a constant we can simply multipy it into the wavefunction define new sampled wavefunction \n",
    "\\begin{align}\n",
    "  \\Psi(x_i)  = \\sqrt{\\delta x} \\psi(x_i)\n",
    "\\end{align}\n",
    "such that \n",
    "\\begin{align}\n",
    "  \\sum_i \\left|\\Psi(x_i)\\right|^2 = 1\n",
    "\\end{align}\n",
    "and we do not hace to carry around the $\\delta x$ all the time. With this we can use things like:\n",
    "\\begin{align}\n",
    "\\left\\lt \\Psi_1(x) \\right.\\left| \\Psi_2(x)\\right\\gt = \\sum_i \\Psi_1^*(x_i)  \\Psi_2(x_i) \n",
    "\\end{align}\n",
    "which is just a dot-product. \n",
    "\n",
    "\n",
    "What are the ${\\phi_i}$ in this case? They are just Functions with all points from the `numpy.linspace` set to zero, except one, the $i$th, which is set to unity.  We have what is called **discrete delta property**\n",
    "\\begin{align}\n",
    "\\phi_j(x_i) = \\delta_{ij}\n",
    "\\end{align}\n",
    "and \n",
    "\\begin{align}\n",
    " \\left\\lt \\phi_j(x) \\right.\\left| \\phi_j(x)\\right\\gt = \\sum_i \\left(\\phi_j(x_i)\\right)^2 = 1\n",
    "\\end{align}\n",
    "and \n",
    "\\begin{align}\n",
    " \\left\\lt \\phi_j(x) \\right.\\left| \\phi_l(x)\\right\\gt = \\sum_i \\phi_j(x_i) \\phi_l(x_i)  = \\delta_{jl}\n",
    "\\end{align}\n",
    "\n",
    "### Wavefunction in this basis\n",
    "Expessing the wavefunction in a basis ($\\approx$ because of finite sum):\n",
    "\n",
    "\\begin{align}\n",
    "  \\left|\\Psi\\right\\gt & \\approx \\sum_j  \\left|\\Phi_j\\right\\gt \\left\\lt\\Phi_j\\right| \\left. \\Psi\\right\\gt \\\\\n",
    "  & =  \\sum_j c_j \\left|\\Phi_j \\right\\gt \\\\\n",
    "  & = \\Psi(\\left\\{x_j\\right\\})\n",
    "\\end{align}\n",
    " \n",
    "\n",
    "\n",
    "\n",
    "\n",
    "### Kinetic energy\n",
    "\n",
    "The kinetic in coordinate representation energy is given as the Laplacian (see lecture about differentiation) scaled with $\\frac{-1}{2m}$. We will for now just use the Laplacian matrix $L_{ij}$ we already know as we have used it already for functions that are sampled on a `linspace`. Since the $\\phi_j$ are also just functions sampled on a `linspace` and only 1 in one point but zero otherwise we have \n",
    "\\begin{align}\n",
    " \\left\\lt \\phi_i(x) \\right| L \\left| \\phi_j(x)\\right\\gt = L_{ij}\n",
    "\\end{align}\n",
    "so we can use the Laplacian matrix directly in the Hamiltonian\n",
    "\n",
    "### Potential energy\n",
    "\n",
    "For the time being we only look at the case where potential energy is zero in the area where there wavefunction resides. It will hence not enter the Hamiltonian matrix explicitly. \n",
    "\n",
    "\n",
    "## Atomic units\n",
    "\n",
    "When studying quantum mechanics numerically it is beneficial to do so in units that are suitable for representation on a computer. For instance, treating the Planck constant $h = 6.62607544267\\times10^{-34}$ Js in SI units is bound to fail. We therefore switch to <i>atomic units</i> which have comprehensible numerical values: The basis units are\n",
    "\n",
    "|Unit   | Reference    | symbol | Numerical value a.u.   | Numerical value SI    |\n",
    "|---:   |:-------------|:-------------|:-----------|:------|\n",
    "|Action | Reduced Planck constant| $\\hbar$      | 1          | $1.055\\times10^{-34}$ Js |\n",
    "|Length | Bohr redius            | $a_0$        | 1          | $5.292\\times10^{-11}$ m  |\n",
    "|Charge | Elementary charge      | $e$          | 1          | $1.602\\times10^{-19}$ C  |\n",
    "|Mass   | Electron mass          | $m_e$        | 1          | $9.109\\times10^{-31}$ kg  |\n",
    "\n",
    "\n",
    "Derived units\n",
    "\n",
    "\n",
    "|Unit   | Relation    | symbol         | Numerical value a.u.   | Numerical value SI    |\n",
    "|---:   |:-------------|:-------------|:-----------|:------|\n",
    "|Energy |  $\\frac{\\hbar^2}{m_e a_0^2}$ | $E_h$     | 1          | $4.360\\times10^{-18}$ J = 27.211 eV |\n",
    "|Time   |  $\\frac{\\hbar}{E_h}$         | $-$ (a.u.)       | 1          | $2.419\\times10^{-17}$ s = 0.024 fs  |\n",
    "\n"
   ]
  },
  {
   "cell_type": "code",
   "execution_count": 4,
   "metadata": {},
   "outputs": [
    {
     "name": "stdout",
     "output_type": "stream",
     "text": [
      "0.1111111111111111\n",
      "[[1. 0. 0. 0. 0. 0. 0. 0. 0. 0.]\n",
      " [0. 1. 0. 0. 0. 0. 0. 0. 0. 0.]\n",
      " [0. 0. 1. 0. 0. 0. 0. 0. 0. 0.]\n",
      " [0. 0. 0. 1. 0. 0. 0. 0. 0. 0.]\n",
      " [0. 0. 0. 0. 1. 0. 0. 0. 0. 0.]\n",
      " [0. 0. 0. 0. 0. 1. 0. 0. 0. 0.]\n",
      " [0. 0. 0. 0. 0. 0. 1. 0. 0. 0.]\n",
      " [0. 0. 0. 0. 0. 0. 0. 1. 0. 0.]\n",
      " [0. 0. 0. 0. 0. 0. 0. 0. 1. 0.]\n",
      " [0. 0. 0. 0. 0. 0. 0. 0. 0. 1.]]\n",
      "[[0. 1. 0. 0. 0. 0. 0. 0. 0. 0.]\n",
      " [0. 0. 1. 0. 0. 0. 0. 0. 0. 0.]\n",
      " [0. 0. 0. 1. 0. 0. 0. 0. 0. 0.]\n",
      " [0. 0. 0. 0. 1. 0. 0. 0. 0. 0.]\n",
      " [0. 0. 0. 0. 0. 1. 0. 0. 0. 0.]\n",
      " [0. 0. 0. 0. 0. 0. 1. 0. 0. 0.]\n",
      " [0. 0. 0. 0. 0. 0. 0. 1. 0. 0.]\n",
      " [0. 0. 0. 0. 0. 0. 0. 0. 1. 0.]\n",
      " [0. 0. 0. 0. 0. 0. 0. 0. 0. 1.]\n",
      " [0. 0. 0. 0. 0. 0. 0. 0. 0. 0.]]\n",
      "[[-2.  1.  0.  0.  0.  0.  0.  0.  0.  0.]\n",
      " [ 1. -2.  1.  0.  0.  0.  0.  0.  0.  0.]\n",
      " [ 0.  1. -2.  1.  0.  0.  0.  0.  0.  0.]\n",
      " [ 0.  0.  1. -2.  1.  0.  0.  0.  0.  0.]\n",
      " [ 0.  0.  0.  1. -2.  1.  0.  0.  0.  0.]\n",
      " [ 0.  0.  0.  0.  1. -2.  1.  0.  0.  0.]\n",
      " [ 0.  0.  0.  0.  0.  1. -2.  1.  0.  0.]\n",
      " [ 0.  0.  0.  0.  0.  0.  1. -2.  1.  0.]\n",
      " [ 0.  0.  0.  0.  0.  0.  0.  1. -2.  1.]\n",
      " [ 0.  0.  0.  0.  0.  0.  0.  0.  1. -2.]]\n",
      "[[-162.   81.    0.    0.    0.    0.    0.    0.    0.    0.]\n",
      " [  81. -162.   81.    0.    0.    0.    0.    0.    0.    0.]\n",
      " [   0.   81. -162.   81.    0.    0.    0.    0.    0.    0.]\n",
      " [   0.    0.   81. -162.   81.    0.    0.    0.    0.    0.]\n",
      " [   0.    0.    0.   81. -162.   81.    0.    0.    0.    0.]\n",
      " [   0.    0.    0.    0.   81. -162.   81.    0.    0.    0.]\n",
      " [   0.    0.    0.    0.    0.   81. -162.   81.    0.    0.]\n",
      " [   0.    0.    0.    0.    0.    0.   81. -162.   81.    0.]\n",
      " [   0.    0.    0.    0.    0.    0.    0.   81. -162.   81.]\n",
      " [   0.    0.    0.    0.    0.    0.    0.    0.   81. -162.]]\n"
     ]
    },
    {
     "data": {
      "image/png": "[encoded data removed]",
      "text/plain": [
       "<Figure size 900x900 with 1 Axes>"
      ]
     },
     "metadata": {},
     "output_type": "display_data"
    }
   ],
   "source": [
    "# atomic units\n",
    "hbar = 1.0\n",
    "m = 1.0\n",
    "\n",
    "# set number of points for numerical approximation\n",
    "steps = 10\n",
    "\n",
    "#width of the box\n",
    "L = 1\n",
    "\n",
    "#grid along x\n",
    "L2 = L/2\n",
    "xgrid, h = linspace(-L2,L2,steps,retstep=True)\n",
    "print (h)\n",
    "# get step size h for the numerical derivative\n",
    "# create the second derivative matrix\n",
    "\n",
    "print (diag(ones(steps)))\n",
    "\n",
    "print (diag(ones(steps-1),1))\n",
    "\n",
    "\n",
    "print ((-2.0 * diag(ones(steps))+diag(ones(steps-1),1)+diag(ones(steps-1),-1)))\n",
    "\n",
    "Laplacian = (-2.0 * diag(ones(steps))+diag(ones(steps-1),1)+diag(ones(steps-1),-1))/(float)(h**2)\n",
    "print (Laplacian)\n",
    "# we can look at this matrix - it is a band matrix as only the j-1, j, and j+1 \n",
    "# grid points are required for each second derivative - see lecture 5\n",
    "# print(Laplacian)\n",
    "\n",
    "plt.rcParams[\"figure.figsize\"] = (9,9)\n",
    "plt.matshow(Laplacian)\n",
    "plt.show()"
   ]
  },
  {
   "cell_type": "code",
   "execution_count": 10,
   "metadata": {},
   "outputs": [
    {
     "name": "stdout",
     "output_type": "stream",
     "text": [
      "1.0\n"
     ]
    },
    {
     "data": {
      "image/png": "[encoded data removed]",
      "text/plain": [
       "<Figure size 900x900 with 1 Axes>"
      ]
     },
     "metadata": {},
     "output_type": "display_data"
    }
   ],
   "source": [
    "'''                          Now construct the Hamiltonian matrix\n",
    "'''\n",
    "print (hbar)\n",
    "Hamiltonian = ((-0.5*(hbar**2)/m)) * Laplacian\n",
    "\n",
    "#print(Hamiltonian)\n",
    "plt.matshow(Hamiltonian)\n",
    "plt.show()"
   ]
  },
  {
   "cell_type": "markdown",
   "metadata": {},
   "source": [
    "## Linear algebra\n",
    "\n",
    "We have to sole now the linear algebra problem \n",
    "\\begin{align}\n",
    "  H \\Psi = E \\Psi\n",
    "\\end{align}\n",
    "for $H$ being the Hamiltonian matrix and $\\Psi$ being a function sampled on points. One can interprete as a vector.  \n",
    "\n",
    "A set of linear algebraic equations for a looks like this\n",
    "\\begin{align}\n",
    "  A x = b\n",
    "\\end{align}\n",
    "or \n",
    "\\begin{align}\n",
    "a_{11} x_1 + a_{12} x_2 + a_{13} x_3 + \\ldots + a_{1N} x_N &= b_1 \\\\\n",
    "a_{21} x_1 + a_{22} x_2 + a_{23} x_3 + \\ldots + a_{1N} x_N &= b_2 \\\\\n",
    "\\vdots & \\\\\n",
    "a_{M1} x_1 + a_{M2} x_2 + a_{M3} x_3 + \\ldots + a_{MN} x_N &= b_M\n",
    "\\end{align}\n",
    "for $N$ unknowns $x$, $M$ equations relating the unknowns and known coefficients $a_{ij}$ with $i=1,2,\\ldots,M$ and $j=1,2,\\ldots,N$, and $b_i$'s.\n",
    "\n",
    "For $N=M$, this system can probably be solved uniquely. There may be degeneracies so that there is no unique solution. A degeneracy occurs if for example one or more of the variables (or the equations) is a linear combination of any of the others (they are linearly dependent).\n",
    "\n",
    "It can also lead to problems if some of the variables (equations) are not exactly linearly dependent but almost so and the numerical (floating-point) precision is not high enough to resolve this. For very large $N$, accumulated error can also lead to problems.\n",
    "\n",
    "The coefficients $a_{ij}$ can be written as a matrix as\n",
    "\\begin{align}\n",
    "\\mathbf{A} = \\begin{pmatrix} \n",
    "a_{11} & a_{12} & \\ldots & a_{1N} \\\\\n",
    "a_{21} & a_{22} & \\ldots & a_{2N} \\\\\n",
    "\\vdots & & \\ddots & \\vdots \\\\\n",
    "a_{M1} & a_{M2} & \\ldots & a_{MN} \\\\\n",
    "\\end{pmatrix}\n",
    "\\end{align}\n",
    "and the solutions $b_{j}$ as a column vector\n",
    "\\begin{align}\n",
    "\\mathbf{b} = \\begin{pmatrix} \n",
    "b_{1} \\\\\n",
    "b_{2} \\\\\n",
    "\\vdots \\\\\n",
    "b_{M} \\\\\n",
    "\\end{pmatrix}\n",
    "\\end{align}\n",
    "By convention, the first index denotes the row and the second the column of the matrix. Matrix elements are referenced as we have already discussed; but there are some perks to these that may not be obvious at first. How is the matrix stored in memory? Basically, there are two ways that it can be stored: Either in rows after rows or in columns after column. If you just like to access one element of a matrix, this does not really matter. But if you like to loop over rows and columns, for example in a matrix multiplication, then this may be faster if you access the elements in the order they are stored in memory (contiguous in memory). This way, every subsequent element is just an increment in the physical memory, and not at a completely different memory address.\n",
    "\n",
    "Different programming languages unfortunately use different orders to store matrix elements in memory. Fortran for example uses __column-major order__, where consecutive elements of a column are stored next to each other (the first index $i$ runs fastest): $a_{12}$ and $a_{22}$ lie next to each other. In total, the array $\\mathbf{A}$ is stored as $\\mathbf{A}=a_{11},a_{21},\\ldots,a_{M1},a_{12},a_{22},\\ldots,a_{M2},\\ldots,a_{1N},a_{2N},\\ldots,a_{MN}$.\n",
    "\n",
    "In C/C++ on the other hand, the order is __row-major order__ where the second index ($j$) runs fastest with consecutive elements $a_{12}$ and $a_{13}$. In total, the array $\\mathbf{A}$ is stored as $\\mathbf{A}=a_{11},a_{12},\\ldots,a_{1N},a_{21},a_{22},\\ldots,a_{2N},\\ldots,a_{M1},a_{M2},\\ldots,a_{MN}$.\n",
    "\n",
    "Generally this will not be important for you, but whenever arrays are passed between languages (Lapack routines written in Fortran to python), you will see that the meaning of rows and columns in your matrix is not what you expect.\n",
    "\n",
    "Numpy arrays are stored in row-major order unless explicitly specified.\n",
    "`order = ‘C’` or `order = ‘F’`\n",
    "(row-major (C-style) or column-major (Fortran-style) order)."
   ]
  },
  {
   "cell_type": "markdown",
   "metadata": {},
   "source": [
    "## Matrix diagonalization or eigen decomposition\n",
    "\n",
    "In time-independent quantum mechanics, matrix diagonalization is the most fundamental task that needs to be carried out. For all matrix manipulations, we use the linear algebra package from scipy (linalg) (we could also use numpy linalg but scipy has all the numpy routines plus a few additional ones). \\\n",
    "https://docs.scipy.org/doc/scipy/reference/linalg.html\n",
    "\n",
    "Matrix diagonalization is the process of transforming a square matrix $\\mathbf{A}$ into a diagonal matrix $\\mathbf{D}$, and results in the eigenvectors (the set of vectors that diagonalizes $\\mathbf{A}$) and eigenvalues $\\lambda_i$ (the diagonal entries on $\\mathbf{D}$). This corresponds to a basis transformation of the original matrix into a basis where the matrix is in its canonical form.\n",
    "\\begin{align}\n",
    "\\mathbf{A} =\\mathbf{Q} \\mathbf{D} \\mathbf{Q}^{-1}\n",
    "\\end{align}\n",
    "The square matrix $\\mathbf{Q}$ contains the eigenvectors $\\mathbf{Q}_i$ for each eigenvalue $i$. For __normal__ matrices ($\\mathbf{A}^\\dagger\\mathbf{A} = \\mathbf{A}\\mathbf{A}^\\dagger$) it holds $ \\mathbf{Q}^{-1} =  \\mathbf{Q}^{T}$ and $\\mathbf{Q}$ is unitary.\n",
    "\n",
    "We can also write this as\n",
    "\\begin{align}\n",
    "\\mathbf{A} \\mathbf{Q}_i =  \\lambda_i  \\mathbf{Q}_i\n",
    "\\end{align}\n",
    "Look familiar? With $\\mathbf{A}$ the Hamiltonian matrix, $\\mathbf{Q}_i$ the wave function of state $i$, and $\\lambda_i$ the eigenvalue (energy) of state $i$, this is just the time-independent Schrödinger equation. So solving the TISE is equivalent to an eigen decomposition. With $\\mathbf{A}$ a Hermitian (or, for real-valued Hamiltonians, symmetric) matrix, the eigenvalues $\\lambda_i$ are real numbers and correspond to physical observables.\n",
    "\n",
    "This transformation into the canonical form is extremely powerful, as it reduces the number of parameters of the matrix from $N \\times N$ to just $N$, and it provides a linear map that transforms any subsequent matrix equation into the simpler form. As the \"matrix diagonalization\" yields the eigenvectors and eigenvalues, it is more precise to refer to it as \"eigen decomposition\", as the process decomposes the original matrix into the product of three matrices (of which one is diagonal). Matrix diagonalization is also required for matrix inversion ($\\mathbf{A} \\rightarrow \\mathbf{A}^{-1}$) as matrices are inverted by transforming them into their diagonal form and then inverting the diagonal elements. For a singular or close-to-singular matrix (a matrix that is not invertible (= has zero eigenvalues) or has no eigen decomposition), singular value decomposition is used (we will see this later).\n",
    "\n",
    "In all other cases, the eigen decomposition can be carried out using direct approaches, that directly decompose the matrix as a whole, and iterative routines like Davidson or Lanczos that operate on a subspace of the full matrix (Krylov space for Lanczos). Overall, eigen decomposition is complicated business, and depending on the kind of values in the matrix, different routines are chosen. For us this means that have to distinguish between real and complex matrices, symmetric and nonsymmetric matrices, and we need to be aware that different algorithms are used for the solution.\n",
    "\n",
    "For practical purposes we will rely on existing routines that are implemented in various libryries and just use them and do not bother with implementation details. If you are interested in details look at:\n",
    "\n",
    "http://www.netlib.org/lapack/explore-html/db/d55/group__complex16_g_eeigen_ga0eb4e3d75621a1ce1685064db1ac58f0.html \n",
    "\\\n",
    "https://software.intel.com/content/www/us/en/develop/documentation/mkl-developer-reference-c/top/lapack-routines/lapack-least-squares-and-eigenvalue-problem-routines/lapack-least-squares-and-eigenvalue-problem-driver-routines/nonsymmetric-eigenvalue-problems-lapack-driver-routines/geev.html\n"
   ]
  },
  {
   "cell_type": "code",
   "execution_count": 11,
   "metadata": {},
   "outputs": [
    {
     "name": "stdout",
     "output_type": "stream",
     "text": [
      "[[ 0.12013117  0.23053002  0.3222527   0.38786839  0.42206128  0.42206128\n",
      "   0.38786839 -0.3222527   0.23053002 -0.12013117]\n",
      " [ 0.23053002  0.38786839  0.42206128  0.3222527   0.12013117 -0.12013117\n",
      "  -0.3222527   0.42206128 -0.38786839  0.23053002]\n",
      " [ 0.3222527   0.42206128  0.23053002 -0.12013117 -0.38786839 -0.38786839\n",
      "  -0.12013117 -0.23053002  0.42206128 -0.3222527 ]\n",
      " [ 0.38786839  0.3222527  -0.12013117 -0.42206128 -0.23053002  0.23053002\n",
      "   0.42206128 -0.12013117 -0.3222527   0.38786839]\n",
      " [ 0.42206128  0.12013117 -0.38786839 -0.23053002  0.3222527   0.3222527\n",
      "  -0.23053002  0.38786839  0.12013117 -0.42206128]\n",
      " [ 0.42206128 -0.12013117 -0.38786839  0.23053002  0.3222527  -0.3222527\n",
      "  -0.23053002 -0.38786839  0.12013117  0.42206128]\n",
      " [ 0.38786839 -0.3222527  -0.12013117  0.42206128 -0.23053002 -0.23053002\n",
      "   0.42206128  0.12013117 -0.3222527  -0.38786839]\n",
      " [ 0.3222527  -0.42206128  0.23053002  0.12013117 -0.38786839  0.38786839\n",
      "  -0.12013117  0.23053002  0.42206128  0.3222527 ]\n",
      " [ 0.23053002 -0.38786839  0.42206128 -0.3222527   0.12013117  0.12013117\n",
      "  -0.3222527  -0.42206128 -0.38786839 -0.23053002]\n",
      " [ 0.12013117 -0.23053002  0.3222527  -0.38786839  0.42206128 -0.42206128\n",
      "   0.38786839  0.3222527   0.23053002  0.12013117]]\n",
      "[ 0.23053002  0.38786839  0.42206128  0.3222527   0.12013117 -0.12013117\n",
      " -0.3222527  -0.42206128 -0.38786839 -0.23053002]\n",
      "[  3.28106914  12.85846384  27.95628055  47.35138395  69.4724981\n",
      "  92.5275019  114.64861605 134.04371945 149.14153616 158.71893086]\n"
     ]
    },
    {
     "data": {
      "text/plain": [
       "True"
      ]
     },
     "execution_count": 11,
     "metadata": {},
     "output_type": "execute_result"
    }
   ],
   "source": [
    "\n",
    "\n",
    "# diagonalize the Hamiltonian (Hermitian/symmetric matrix, uses Lapack dsyevd routine)\n",
    "# DOES NOT CHECK THAT YOUR MATRIX IS HERMITIAN/SYMMETRIC SO YOU NEED TO BE SURE ABOUT IT\n",
    "eigenval, eigenvec = la.eigh(Hamiltonian)\n",
    "print(eigenvec)\n",
    "print (eigenvec[:,1])\n",
    "print(eigenval)\n",
    "\n",
    "# the sign of the eigenvectors is arbitrary. We just loop through then\n",
    "# and fix the first element of each eigenvector to be positive\n",
    "for n in range(steps):\n",
    "    if eigenvec[0,n] < 0.0:\n",
    "        eigenvec[:,n] = -eigenvec[:,n]\n",
    "\n",
    "# Note that the eigenvectors are normalized and orthogonal:\n",
    "B = eigenvec.T @ eigenvec\n",
    "# -------------^ matmul\n",
    "\n",
    "unit = diag(ones(steps))\n",
    "allclose(B,unit)"
   ]
  },
  {
   "cell_type": "code",
   "execution_count": 12,
   "metadata": {
    "scrolled": false
   },
   "outputs": [
    {
     "data": {
      "application/vnd.jupyter.widget-view+json": {
       "model_id": "7d38ee8432cd4bc899de35a1928c91ab",
       "version_major": 2,
       "version_minor": 0
      },
      "text/plain": [
       "interactive(children=(IntSlider(value=1, description='n', max=10, min=1), Output()), _dom_classes=('widget-int…"
      ]
     },
     "metadata": {},
     "output_type": "display_data"
    },
    {
     "name": "stdout",
     "output_type": "stream",
     "text": [
      "9\n"
     ]
    }
   ],
   "source": [
    "# import some interactuve tools\n",
    "from ipywidgets import interact\n",
    "\n",
    "# dynamically create figure\n",
    "def plot_psi(n=1):\n",
    "\n",
    "    # we have eigenstates starting at n=1\n",
    "    # but the numpy arrays start at index zero\n",
    "    # so we just rename the n to n-1 in \n",
    "    # order to get the correct vectors and energies\n",
    "    nm1 = n-1\n",
    "    fig, ax = plt.subplots(3,figsize=(6,3*3),sharex=True)\n",
    "    \n",
    "    #plot 1\n",
    "    #Column-major order from Fortran leads to the unexpected indexing of the eigenvectors\n",
    "    #we could also transpose the eigenvectors using transpose() or .T\n",
    "    ax[0].plot(xgrid,eigenvec[:,nm1])\n",
    "    ax[0].set_ylabel('$\\Psi$',fontsize=mf)\n",
    "    ax[0].text(-L2,max(eigenvec[:,nm1]*0.9),r'Wavefunction'.format(nm1),fontsize=mf)\n",
    "\n",
    "    #plot 2\n",
    "    ax[1].plot(xgrid,eigenvec[:,nm1]**2)\n",
    "    ax[1].set_ylabel('$|\\Psi|^2$',fontsize=mf)\n",
    "    ax[1].text(-L2,max(eigenvec[:,nm1]**2*0.9),'Density',fontsize=mf)\n",
    "\n",
    "    #plot 3\n",
    "    \n",
    "    ax[2].hlines(eigenval[nm1],-L2,L2)\n",
    "    ax[2].set_xlabel('x (a.u.)',fontsize=mf)\n",
    "    ax[2].set_ylabel('E (E$_h$)',fontsize=mf)\n",
    "    ax[2].text(-L2,eigenval[nm1],'Energy',fontsize=mf)\n",
    "    ax[2].set_ylim(0,eigenval[0:10].max()+10)\n",
    "    for i in range(3):\n",
    "        ax[i].xaxis.set_tick_params(labelsize=mf)\n",
    "        ax[i].yaxis.set_tick_params(labelsize=mf)\n",
    "    \n",
    "    plt.subplots_adjust(hspace = 0.0)\n",
    "    plt.show()\n",
    "    \n",
    "interact(plot_psi, n=(1, 10, 1))\n",
    "\n",
    "print ('Total Eigenstates : ',n)"
   ]
  },
  {
   "cell_type": "code",
   "execution_count": 8,
   "metadata": {},
   "outputs": [
    {
     "data": {
      "application/vnd.jupyter.widget-view+json": {
       "model_id": "4977a3f1a70b48dd87c3784ce9923475",
       "version_major": 2,
       "version_minor": 0
      },
      "text/plain": [
       "interactive(children=(IntSlider(value=1, description='n', max=10, min=1), Output()), _dom_classes=('widget-int…"
      ]
     },
     "metadata": {},
     "output_type": "display_data"
    },
    {
     "data": {
      "text/plain": [
       "<function __main__.plot_psi_ex(n=1)>"
      ]
     },
     "execution_count": 8,
     "metadata": {},
     "output_type": "execute_result"
    }
   ],
   "source": [
    "'''                    We can compare this to the analytical solution\n",
    "'''\n",
    "def get_exact_waves(xgrid,L):\n",
    "    \"create the analytical particle in a box functions\"\n",
    "    steps=len(xgrid)          # number of points\n",
    "    h=xgrid[1]-xgrid[0]       # dx\n",
    "    ww = empty((steps,steps)) # space for all analytical solutions\n",
    "    prefac=sqrt(2*h/L)        # normalization\n",
    "    for i in range(1,steps+1):\n",
    "        angle = i * pi * linspace(0,L,steps)/L\n",
    "        ww[i-1] = sin(angle)*prefac\n",
    "    return ww\n",
    "\n",
    "def get_exact_energy(n,L):\n",
    "    energy=empty(n)\n",
    "    for i in range(1,n+1):\n",
    "        energy[i-1] = i**2 * pi**2 / (2*L**2)\n",
    "    return energy\n",
    "\n",
    "wavef=get_exact_waves(xgrid,L)\n",
    "ene = get_exact_energy(len(xgrid),L)\n",
    "\n",
    "\n",
    "# dynamically create figure\n",
    "def plot_psi_ex(n=1):\n",
    "\n",
    "    # we have eigenstates starting at n=1\n",
    "    # but the numpy arrays start at index zero\n",
    "    # so we just rename the n to n-1 in \n",
    "    # order to get the correct vectors and energies\n",
    "    nm1 = n-1\n",
    "    \n",
    "    fig, ax = plt.subplots(3,figsize=(6,3*3),sharex=True)\n",
    "    \n",
    "    ax[0].plot(xgrid,eigenvec[:,nm1])\n",
    "    ax[0].plot(xgrid,wavef[nm1],color='black',linestyle = '--')\n",
    "    ax[0].set_ylabel('$\\Psi$',fontsize=mf)\n",
    "    ax[0].text(-L2,max(eigenvec[:,nm1]*0.9),'Wave function',fontsize=mf)\n",
    "\n",
    "    # plot 2\n",
    "    ax[1].plot(xgrid,eigenvec[:,nm1]**2)\n",
    "    ax[1].plot(xgrid,wavef[nm1]**2,color='black',linestyle = '--')\n",
    "    ax[1].set_ylabel('$|\\Psi|^2$',fontsize=mf)\n",
    "    ax[1].text(-L2,max(eigenvec[:,nm1]**2*0.9),'Density',fontsize=mf)\n",
    "\n",
    "\n",
    "    ax[2].hlines(eigenval[nm1],-L2,L2)\n",
    "    ax[2].hlines(ene[nm1],-L2,L2,color='black',linestyle = '--')\n",
    "    ax[2].set_xlabel('x (a.u.)',fontsize=mf)\n",
    "    ax[2].set_ylabel('E (E$_h$)',fontsize=mf)\n",
    "    ax[2].text(-L2,eigenval[nm1],'Energy',fontsize=mf)\n",
    "    ax[2].set_ylim(0,ene[0:10].max()+10)\n",
    "    for i in range(3):\n",
    "        ax[i].xaxis.set_tick_params(labelsize=mf)\n",
    "        ax[i].yaxis.set_tick_params(labelsize=mf)\n",
    "\n",
    "    plt.subplots_adjust(hspace = 0.0)\n",
    "    plt.show()\n",
    "\n",
    "interact(plot_psi_ex, n=(1, 10, 1))"
   ]
  },
  {
   "cell_type": "code",
   "execution_count": 20,
   "metadata": {},
   "outputs": [
    {
     "name": "stdout",
     "output_type": "stream",
     "text": [
      "-6.938893903907228e-17\n",
      "[ 4.41313652e-15 -2.26554886e-15 -2.77555756e-15  5.82867088e-16\n",
      "  1.27675648e-15 -9.57567359e-16  1.04083409e-15 -1.26287869e-15\n",
      " -1.56125113e-16  8.32667268e-17]\n"
     ]
    }
   ],
   "source": [
    "'''                     Now we can compute expectation values\n",
    "'''\n",
    "def get_x(psi,L,nsteps):\n",
    "    xgrid = linspace(-L/2,L/2,nsteps)\n",
    "    psi_x_psi = psi[:]*xgrid*psi[:]\n",
    "    expect = sum(psi_x_psi)\n",
    "    return expect\n",
    "\n",
    "def get_x_all(wavef,L,nsteps):\n",
    "    xgrid = linspace(-L/2,L/2,nsteps)\n",
    "    psi_x_psi = conj(wavef.T)*xgrid*wavef.T\n",
    "    expec = sum(psi_x_psi,axis=1)\n",
    "    return expec\n",
    "\n",
    "\n",
    "myx1 = get_x(eigenvec[0],L,len(eigenvec[0]))\n",
    "print(myx1)\n",
    "myx2 = get_x_all(eigenvec,L,len(eigenvec[0]))\n",
    "print(myx2)\n"
   ]
  },
  {
   "cell_type": "markdown",
   "metadata": {},
   "source": [
    "Generate a function to obtain $\\langle x^2 \\rangle$ and compute the uncertainty of $x$, $\\sqrt{\\langle x^2 \\rangle - \\langle x \\rangle^2}$, for the first ten states."
   ]
  },
  {
   "cell_type": "code",
   "execution_count": 31,
   "metadata": {},
   "outputs": [
    {
     "name": "stdout",
     "output_type": "stream",
     "text": [
      "Task 2\n",
      "##################################################\n",
      "[0.04877342 0.1054245  0.11573561 0.11908296 0.12024276 0.12024276\n",
      " 0.11908296 0.11573561 0.1054245  0.04877342]\n",
      "Get standard deviation\n",
      "Standard deviation = [0.22084706 0.3246914  0.34019937 0.34508399 0.34676038 0.34676038\n",
      " 0.34508399 0.34019937 0.3246914  0.22084706]\n"
     ]
    }
   ],
   "source": [
    "def get_x_all_sq(wavef,L,nsteps):\n",
    "    xgrid = linspace(-L/2,L/2,nsteps)\n",
    "    psi_x_psi = conj(wavef.T)*xgrid**2 *wavef.T\n",
    "    expec = sum(psi_x_psi,axis=1)\n",
    "    return expec\n",
    "\n",
    "\n",
    "\n",
    "myx_sq = get_x_all_sq(eigenvec,L,len(eigenvec[0]))\n",
    "print(myx_sq)\n",
    "\n",
    "print ('Get standard deviation')\n",
    "\n",
    "St_dev =((myx_sq)-(myx2)**2)**0.5\n",
    "\n",
    "print ('Standard deviation =',St_dev)\n",
    "\n"
   ]
  },
  {
   "cell_type": "markdown",
   "metadata": {},
   "source": [
    "calculate  $\\langle p^2 \\rangle$?"
   ]
  },
  {
   "cell_type": "code",
   "execution_count": 30,
   "metadata": {},
   "outputs": [
    {
     "name": "stdout",
     "output_type": "stream",
     "text": [
      "[[-3.65926689e-32-5.89805982e-16j -8.47409176e-32-1.40859546e-15j\n",
      "  -9.37927883e-32-1.54737334e-15j -4.41519440e-32-7.23379689e-16j\n",
      "  -3.63519277e-33-6.11490025e-17j  6.25927232e-34+8.67361738e-18j\n",
      "   2.08000434e-32+3.33066907e-16j  1.54074396e-31+2.55351296e-15j\n",
      "   2.15704154e-31+3.46944695e-15j  1.00148357e-31+1.69309011e-15j]\n",
      " [ 1.37772765e-16+2.25000000e+00j -2.69630192e-32-4.09394740e-16j\n",
      "   1.25185446e-32+1.90819582e-16j -6.78890305e-33-1.07552856e-16j\n",
      "   1.60995706e-34+2.41234983e-18j  4.43866667e-34+6.96599896e-18j\n",
      "   9.62964972e-34+1.30104261e-17j -1.82963345e-32-3.01841885e-16j\n",
      "   2.58074613e-32+4.37150316e-16j -1.37772765e-16-2.25000000e+00j]]\n"
     ]
    }
   ],
   "source": [
    "def p2(wavef,L,nsteps):\n",
    "    xgrid = linspace(-L/2,L/2,nsteps)\n",
    "    psi_x_psi = conj(wavef.T)*xgrid**2 * (-(-1)**0.5)*np.gradient(wavef.T,(xgrid[1]-xgrid[0]))\n",
    "    expec = sum(psi_x_psi,axis=1)\n",
    "    return expec\n",
    "\n",
    "\n",
    "\n",
    "myx_sq = p2(eigenvec,L,len(eigenvec[0]))\n",
    "print(myx_sq)"
   ]
  },
  {
   "cell_type": "code",
   "execution_count": null,
   "metadata": {},
   "outputs": [],
   "source": []
  }
 ],
 "metadata": {
  "kernelspec": {
   "display_name": "Python 3 (ipykernel)",
   "language": "python",
   "name": "python3"
  },
  "language_info": {
   "codemirror_mode": {
    "name": "ipython",
    "version": 3
   },
   "file_extension": ".py",
   "mimetype": "text/x-python",
   "name": "python",
   "nbconvert_exporter": "python",
   "pygments_lexer": "ipython3",
   "version": "3.11.4"
  }
 },
 "nbformat": 4,
 "nbformat_minor": 4
}
